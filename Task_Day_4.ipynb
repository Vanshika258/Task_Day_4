{
  "nbformat": 4,
  "nbformat_minor": 0,
  "metadata": {
    "colab": {
      "provenance": []
    },
    "kernelspec": {
      "name": "python3",
      "display_name": "Python 3"
    },
    "language_info": {
      "name": "python"
    }
  },
  "cells": [
    {
      "cell_type": "markdown",
      "source": [
        "#Task Day 4\n",
        "#Dashboard Design"
      ],
      "metadata": {
        "id": "6Sd74Nx1r308"
      }
    },
    {
      "cell_type": "markdown",
      "source": [
        "Dataset used: Sales Data from Kaggle"
      ],
      "metadata": {
        "id": "vTv3FsI4sHkP"
      }
    },
    {
      "cell_type": "code",
      "execution_count": 4,
      "metadata": {
        "id": "EAjTKHdwrtWc"
      },
      "outputs": [],
      "source": [
        "#Import files\n",
        "import pandas as pd\n",
        "import numpy as np"
      ]
    },
    {
      "cell_type": "code",
      "source": [
        "#Load csv file\n",
        "df = pd.read_csv(\"/content/Sample_Sales_Dataset.csv\")"
      ],
      "metadata": {
        "id": "CcHzt_q7sQ7l"
      },
      "execution_count": 9,
      "outputs": []
    },
    {
      "cell_type": "code",
      "source": [
        "#Info\n",
        "print(df.head())"
      ],
      "metadata": {
        "colab": {
          "base_uri": "https://localhost:8080/"
        },
        "id": "ET6jKUBntE4k",
        "outputId": "30564b76-86ba-4430-ec94-7fc0a3a4c4c8"
      },
      "execution_count": 10,
      "outputs": [
        {
          "output_type": "stream",
          "name": "stdout",
          "text": [
            "   Order ID  Order Date   Ship Date    Customer Name      Segment   Region  \\\n",
            "0  ORD-1000  2023-01-05  2023-01-07   Eric Henderson     Consumer  Central   \n",
            "1  ORD-1001  2025-02-27  2025-03-02      Heidi Tapia    Corporate     West   \n",
            "2  ORD-1002  2022-11-16  2022-11-20  Stephanie Green    Corporate     East   \n",
            "3  ORD-1003  2022-04-29  2022-05-03    Regina Garcia  Home Office  Central   \n",
            "4  ORD-1004  2024-02-06  2024-02-10     Bailey Smith     Consumer  Central   \n",
            "\n",
            "          Category Sub-Category        Product Name   Sales  Quantity  \\\n",
            "0  Office Supplies         Pens         Nature Pens   73.49         9   \n",
            "1       Technology     Machines       Onto Machines  779.75         2   \n",
            "2        Furniture       Chairs      Suggest Chairs  972.89         9   \n",
            "3  Office Supplies         Pens      Scientist Pens  513.96         5   \n",
            "4        Furniture  Furnishings  Letter Furnishings  649.39         1   \n",
            "\n",
            "   Discount  Profit       Ship Mode  \n",
            "0       0.0   18.44  Standard Class  \n",
            "1       0.1  160.47  Standard Class  \n",
            "2       0.3  183.00     First Class  \n",
            "3       0.2   62.02        Same Day  \n",
            "4       0.1   33.55        Same Day  \n"
          ]
        }
      ]
    },
    {
      "cell_type": "code",
      "source": [
        "#Check missing values\n",
        "print(df.isnull().sum())"
      ],
      "metadata": {
        "colab": {
          "base_uri": "https://localhost:8080/"
        },
        "id": "Tch632AntMR6",
        "outputId": "deba2c30-7793-465b-ef2a-380d9058615f"
      },
      "execution_count": 11,
      "outputs": [
        {
          "output_type": "stream",
          "name": "stdout",
          "text": [
            "Order ID         0\n",
            "Order Date       0\n",
            "Ship Date        0\n",
            "Customer Name    0\n",
            "Segment          0\n",
            "Region           0\n",
            "Category         0\n",
            "Sub-Category     0\n",
            "Product Name     0\n",
            "Sales            0\n",
            "Quantity         0\n",
            "Discount         0\n",
            "Profit           0\n",
            "Ship Mode        0\n",
            "dtype: int64\n"
          ]
        }
      ]
    },
    {
      "cell_type": "code",
      "source": [
        "#Remove duplicates\n",
        "df = df.drop_duplicates()"
      ],
      "metadata": {
        "id": "cWQpTM5ouvPn"
      },
      "execution_count": 12,
      "outputs": []
    },
    {
      "cell_type": "code",
      "source": [
        "#Convert to datetime\n",
        "df['Order Date'] = pd.to_datetime(df['Order Date'], errors='coerce')"
      ],
      "metadata": {
        "id": "M7gbAY_3vDxy"
      },
      "execution_count": 13,
      "outputs": []
    },
    {
      "cell_type": "code",
      "source": [
        "#Convert to datetime\n",
        "df['Ship Date'] = pd.to_datetime(df['Ship Date'], errors='coerce')"
      ],
      "metadata": {
        "id": "XUl_brD5vK4n"
      },
      "execution_count": 14,
      "outputs": []
    },
    {
      "cell_type": "code",
      "source": [
        "df['Year'] = pd.DatetimeIndex(df['Order Date']).year\n",
        "df['Month'] = pd.DatetimeIndex(df['Order Date']).month\n",
        "df['Month Name'] = pd.DatetimeIndex(df['Order Date']).month_name()"
      ],
      "metadata": {
        "id": "9tacJOqQv-4y"
      },
      "execution_count": 15,
      "outputs": []
    },
    {
      "cell_type": "code",
      "source": [
        "df['Profit Margin'] = (df['Profit'] / df['Sales']).round(2)"
      ],
      "metadata": {
        "id": "V1dM-Lo1wDrF"
      },
      "execution_count": 16,
      "outputs": []
    },
    {
      "cell_type": "code",
      "source": [
        "df['Processing Time (Days)'] = (df['Ship Date'] - df['Order Date']).dt.days"
      ],
      "metadata": {
        "id": "z4M8l5ykwGzL"
      },
      "execution_count": 17,
      "outputs": []
    },
    {
      "cell_type": "code",
      "source": [
        "def discount_band(d):\n",
        "    if d == 0:\n",
        "        return \"No Discount\"\n",
        "    elif d <= 0.1:\n",
        "        return \"Low Discount\"\n",
        "    elif d <= 0.2:\n",
        "        return \"Medium Discount\"\n",
        "    else:\n",
        "        return \"High Discount\"\n",
        "\n",
        "df['Discount Band'] = df['Discount'].apply(discount_band)"
      ],
      "metadata": {
        "id": "OF1IP1lxwI00"
      },
      "execution_count": 18,
      "outputs": []
    },
    {
      "cell_type": "code",
      "source": [
        "def sales_category(s):\n",
        "    if s < 100:\n",
        "        return 'Low'\n",
        "    elif s < 500:\n",
        "        return 'Medium'\n",
        "    else:\n",
        "        return 'High'\n",
        "\n",
        "df['Sales Category'] = df['Sales'].apply(sales_category)"
      ],
      "metadata": {
        "id": "fs1d9LuNwQlD"
      },
      "execution_count": 19,
      "outputs": []
    },
    {
      "cell_type": "code",
      "source": [
        "df.columns = df.columns.str.replace(' ', '_').str.lower()"
      ],
      "metadata": {
        "id": "77GSVTCFwWSI"
      },
      "execution_count": 20,
      "outputs": []
    },
    {
      "cell_type": "code",
      "source": [
        "print(df.head())"
      ],
      "metadata": {
        "colab": {
          "base_uri": "https://localhost:8080/"
        },
        "id": "xyruc626wjJ0",
        "outputId": "95682aad-fe42-4e05-a1db-acd4d3f8c89c"
      },
      "execution_count": 21,
      "outputs": [
        {
          "output_type": "stream",
          "name": "stdout",
          "text": [
            "   order_id order_date  ship_date    customer_name      segment   region  \\\n",
            "0  ORD-1000 2023-01-05 2023-01-07   Eric Henderson     Consumer  Central   \n",
            "1  ORD-1001 2025-02-27 2025-03-02      Heidi Tapia    Corporate     West   \n",
            "2  ORD-1002 2022-11-16 2022-11-20  Stephanie Green    Corporate     East   \n",
            "3  ORD-1003 2022-04-29 2022-05-03    Regina Garcia  Home Office  Central   \n",
            "4  ORD-1004 2024-02-06 2024-02-10     Bailey Smith     Consumer  Central   \n",
            "\n",
            "          category sub-category        product_name   sales  ...  discount  \\\n",
            "0  Office Supplies         Pens         Nature Pens   73.49  ...       0.0   \n",
            "1       Technology     Machines       Onto Machines  779.75  ...       0.1   \n",
            "2        Furniture       Chairs      Suggest Chairs  972.89  ...       0.3   \n",
            "3  Office Supplies         Pens      Scientist Pens  513.96  ...       0.2   \n",
            "4        Furniture  Furnishings  Letter Furnishings  649.39  ...       0.1   \n",
            "\n",
            "   profit       ship_mode  year  month  month_name profit_margin  \\\n",
            "0   18.44  Standard Class  2023      1     January          0.25   \n",
            "1  160.47  Standard Class  2025      2    February          0.21   \n",
            "2  183.00     First Class  2022     11    November          0.19   \n",
            "3   62.02        Same Day  2022      4       April          0.12   \n",
            "4   33.55        Same Day  2024      2    February          0.05   \n",
            "\n",
            "   processing_time_(days)    discount_band sales_category  \n",
            "0                       2      No Discount            Low  \n",
            "1                       3     Low Discount           High  \n",
            "2                       4    High Discount           High  \n",
            "3                       4  Medium Discount           High  \n",
            "4                       4     Low Discount           High  \n",
            "\n",
            "[5 rows x 21 columns]\n"
          ]
        }
      ]
    },
    {
      "cell_type": "code",
      "source": [
        "#Save clean data\n",
        "df.to_csv(\"cleaned_data_task_4.csv\", index=False)"
      ],
      "metadata": {
        "id": "LTj5-nAyw1Xf"
      },
      "execution_count": 22,
      "outputs": []
    },
    {
      "cell_type": "code",
      "source": [
        "#Download cleaned csv file\n",
        "from google.colab import files\n",
        "files.download('cleaned_data_task_4.csv')"
      ],
      "metadata": {
        "colab": {
          "base_uri": "https://localhost:8080/",
          "height": 17
        },
        "id": "dmrgn0RJw4OP",
        "outputId": "864272cc-3ed8-4bce-e4bf-914c4ca71acb"
      },
      "execution_count": 23,
      "outputs": [
        {
          "output_type": "display_data",
          "data": {
            "text/plain": [
              "<IPython.core.display.Javascript object>"
            ],
            "application/javascript": [
              "\n",
              "    async function download(id, filename, size) {\n",
              "      if (!google.colab.kernel.accessAllowed) {\n",
              "        return;\n",
              "      }\n",
              "      const div = document.createElement('div');\n",
              "      const label = document.createElement('label');\n",
              "      label.textContent = `Downloading \"${filename}\": `;\n",
              "      div.appendChild(label);\n",
              "      const progress = document.createElement('progress');\n",
              "      progress.max = size;\n",
              "      div.appendChild(progress);\n",
              "      document.body.appendChild(div);\n",
              "\n",
              "      const buffers = [];\n",
              "      let downloaded = 0;\n",
              "\n",
              "      const channel = await google.colab.kernel.comms.open(id);\n",
              "      // Send a message to notify the kernel that we're ready.\n",
              "      channel.send({})\n",
              "\n",
              "      for await (const message of channel.messages) {\n",
              "        // Send a message to notify the kernel that we're ready.\n",
              "        channel.send({})\n",
              "        if (message.buffers) {\n",
              "          for (const buffer of message.buffers) {\n",
              "            buffers.push(buffer);\n",
              "            downloaded += buffer.byteLength;\n",
              "            progress.value = downloaded;\n",
              "          }\n",
              "        }\n",
              "      }\n",
              "      const blob = new Blob(buffers, {type: 'application/binary'});\n",
              "      const a = document.createElement('a');\n",
              "      a.href = window.URL.createObjectURL(blob);\n",
              "      a.download = filename;\n",
              "      div.appendChild(a);\n",
              "      a.click();\n",
              "      div.remove();\n",
              "    }\n",
              "  "
            ]
          },
          "metadata": {}
        },
        {
          "output_type": "display_data",
          "data": {
            "text/plain": [
              "<IPython.core.display.Javascript object>"
            ],
            "application/javascript": [
              "download(\"download_f03aeb48-bfc2-4811-9b8b-15aa68159f82\", \"cleaned_data_task_4.csv\", 51117)"
            ]
          },
          "metadata": {}
        }
      ]
    }
  ]
}